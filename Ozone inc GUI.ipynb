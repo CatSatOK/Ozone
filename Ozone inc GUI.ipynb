{
 "cells": [
  {
   "cell_type": "code",
   "execution_count": 1,
   "id": "fbbe14e0-2c3e-4a38-8570-052b5208e827",
   "metadata": {},
   "outputs": [],
   "source": [
    "import numpy as np\n",
    "import matplotlib.pyplot as plt\n",
    "import pandas as pd"
   ]
  },
  {
   "cell_type": "code",
   "execution_count": 2,
   "id": "379bfc0d-f2ff-47af-8d46-98aaf08f921b",
   "metadata": {},
   "outputs": [
    {
     "data": {
      "text/html": [
       "<div>\n",
       "<style scoped>\n",
       "    .dataframe tbody tr th:only-of-type {\n",
       "        vertical-align: middle;\n",
       "    }\n",
       "\n",
       "    .dataframe tbody tr th {\n",
       "        vertical-align: top;\n",
       "    }\n",
       "\n",
       "    .dataframe thead th {\n",
       "        text-align: right;\n",
       "    }\n",
       "</style>\n",
       "<table border=\"1\" class=\"dataframe\">\n",
       "  <thead>\n",
       "    <tr style=\"text-align: right;\">\n",
       "      <th></th>\n",
       "      <th>obs</th>\n",
       "      <th>maxO3</th>\n",
       "      <th>T9</th>\n",
       "      <th>T12</th>\n",
       "      <th>T15</th>\n",
       "      <th>Ne9</th>\n",
       "      <th>Ne12</th>\n",
       "      <th>Ne15</th>\n",
       "      <th>Vx9</th>\n",
       "      <th>Vx12</th>\n",
       "      <th>Vx15</th>\n",
       "      <th>maxO3v</th>\n",
       "      <th>vent</th>\n",
       "      <th>pluie</th>\n",
       "    </tr>\n",
       "  </thead>\n",
       "  <tbody>\n",
       "    <tr>\n",
       "      <th>0</th>\n",
       "      <td>601</td>\n",
       "      <td>87</td>\n",
       "      <td>15.6</td>\n",
       "      <td>18.5</td>\n",
       "      <td>18.4</td>\n",
       "      <td>4</td>\n",
       "      <td>4</td>\n",
       "      <td>8</td>\n",
       "      <td>0.6946</td>\n",
       "      <td>-1.7101</td>\n",
       "      <td>-0.6946</td>\n",
       "      <td>84</td>\n",
       "      <td>Nord</td>\n",
       "      <td>Sec</td>\n",
       "    </tr>\n",
       "    <tr>\n",
       "      <th>1</th>\n",
       "      <td>602</td>\n",
       "      <td>82</td>\n",
       "      <td>17.0</td>\n",
       "      <td>18.4</td>\n",
       "      <td>17.7</td>\n",
       "      <td>5</td>\n",
       "      <td>5</td>\n",
       "      <td>7</td>\n",
       "      <td>-4.3301</td>\n",
       "      <td>-4.0000</td>\n",
       "      <td>-3.0000</td>\n",
       "      <td>87</td>\n",
       "      <td>Nord</td>\n",
       "      <td>Sec</td>\n",
       "    </tr>\n",
       "    <tr>\n",
       "      <th>2</th>\n",
       "      <td>603</td>\n",
       "      <td>92</td>\n",
       "      <td>15.3</td>\n",
       "      <td>17.6</td>\n",
       "      <td>19.5</td>\n",
       "      <td>2</td>\n",
       "      <td>5</td>\n",
       "      <td>4</td>\n",
       "      <td>2.9544</td>\n",
       "      <td>1.8794</td>\n",
       "      <td>0.5209</td>\n",
       "      <td>82</td>\n",
       "      <td>Est</td>\n",
       "      <td>Sec</td>\n",
       "    </tr>\n",
       "    <tr>\n",
       "      <th>3</th>\n",
       "      <td>604</td>\n",
       "      <td>114</td>\n",
       "      <td>16.2</td>\n",
       "      <td>19.7</td>\n",
       "      <td>22.5</td>\n",
       "      <td>1</td>\n",
       "      <td>1</td>\n",
       "      <td>0</td>\n",
       "      <td>0.9848</td>\n",
       "      <td>0.3473</td>\n",
       "      <td>-0.1736</td>\n",
       "      <td>92</td>\n",
       "      <td>Nord</td>\n",
       "      <td>Sec</td>\n",
       "    </tr>\n",
       "    <tr>\n",
       "      <th>4</th>\n",
       "      <td>605</td>\n",
       "      <td>94</td>\n",
       "      <td>17.4</td>\n",
       "      <td>20.5</td>\n",
       "      <td>20.4</td>\n",
       "      <td>8</td>\n",
       "      <td>8</td>\n",
       "      <td>7</td>\n",
       "      <td>-0.5000</td>\n",
       "      <td>-2.9544</td>\n",
       "      <td>-4.3301</td>\n",
       "      <td>114</td>\n",
       "      <td>Ouest</td>\n",
       "      <td>Sec</td>\n",
       "    </tr>\n",
       "  </tbody>\n",
       "</table>\n",
       "</div>"
      ],
      "text/plain": [
       "   obs  maxO3    T9   T12   T15  Ne9  Ne12  Ne15     Vx9    Vx12    Vx15  \\\n",
       "0  601     87  15.6  18.5  18.4    4     4     8  0.6946 -1.7101 -0.6946   \n",
       "1  602     82  17.0  18.4  17.7    5     5     7 -4.3301 -4.0000 -3.0000   \n",
       "2  603     92  15.3  17.6  19.5    2     5     4  2.9544  1.8794  0.5209   \n",
       "3  604    114  16.2  19.7  22.5    1     1     0  0.9848  0.3473 -0.1736   \n",
       "4  605     94  17.4  20.5  20.4    8     8     7 -0.5000 -2.9544 -4.3301   \n",
       "\n",
       "   maxO3v   vent pluie  \n",
       "0      84   Nord   Sec  \n",
       "1      87   Nord   Sec  \n",
       "2      82    Est   Sec  \n",
       "3      92   Nord   Sec  \n",
       "4     114  Ouest   Sec  "
      ]
     },
     "execution_count": 2,
     "metadata": {},
     "output_type": "execute_result"
    }
   ],
   "source": [
    "# le dataset (changing decimals to . from , at same tilme)\n",
    "df = pd.read_csv('ozone.txt', sep=\";\", decimal=',')\n",
    "df.head()"
   ]
  },
  {
   "cell_type": "code",
   "execution_count": 3,
   "id": "2a2de2ba-26ae-4dca-84ce-02b5c867ad53",
   "metadata": {},
   "outputs": [
    {
     "data": {
      "text/plain": [
       "<AxesSubplot:>"
      ]
     },
     "execution_count": 3,
     "metadata": {},
     "output_type": "execute_result"
    },
    {
     "data": {
      "image/png": "[encoded data removed]",
      "text/plain": [
       "<Figure size 432x288 with 2 Axes>"
      ]
     },
     "metadata": {
      "needs_background": "light"
     },
     "output_type": "display_data"
    }
   ],
   "source": [
    "#heatmap\n",
    "import seaborn as sns\n",
    "corr = df.corr()\n",
    "\n",
    "# plot the heatmap\n",
    "sns.heatmap(corr, \n",
    "        xticklabels=corr.columns,\n",
    "        yticklabels=corr.columns)"
   ]
  },
  {
   "cell_type": "code",
   "execution_count": 4,
   "id": "69109758-4622-48b6-a55a-129990c0821f",
   "metadata": {},
   "outputs": [
    {
     "data": {
      "text/plain": [
       "<seaborn.axisgrid.PairGrid at 0x1abc093d7c0>"
      ]
     },
     "execution_count": 4,
     "metadata": {},
     "output_type": "execute_result"
    },
    {
     "data": {
      "image/png": "[encoded data removed]",
      "text/plain": [
       "<Figure size 2160x180 with 13 Axes>"
      ]
     },
     "metadata": {
      "needs_background": "light"
     },
     "output_type": "display_data"
    }
   ],
   "source": [
    "sns.pairplot(df, y_vars=['maxO3'])"
   ]
  },
  {
   "cell_type": "code",
   "execution_count": 5,
   "id": "16c3689c-215b-4423-8957-214e67ac17b9",
   "metadata": {},
   "outputs": [
    {
     "data": {
      "text/plain": [
       "<AxesSubplot:xlabel='pluie', ylabel='maxO3'>"
      ]
     },
     "execution_count": 5,
     "metadata": {},
     "output_type": "execute_result"
    },
    {
     "data": {
      "image/png": "[encoded data removed]",
      "text/plain": [
       "<Figure size 432x288 with 1 Axes>"
      ]
     },
     "metadata": {
      "needs_background": "light"
     },
     "output_type": "display_data"
    }
   ],
   "source": [
    "#for catagorical data\n",
    "sns.boxplot(data=df, y='maxO3', x='pluie')"
   ]
  },
  {
   "cell_type": "code",
   "execution_count": null,
   "id": "3152ef0a-6b7d-44fa-986a-b4b98a154a33",
   "metadata": {},
   "outputs": [],
   "source": [
    "##class analysis - see doc on smf.ols to help choose the variables ####\n",
    "#lrs = smf.ols('maxO3'-'T12'+'Ne9'+ etc etc (needs import)\n",
    "#and .aic method (?)\n"
   ]
  },
  {
   "cell_type": "code",
   "execution_count": 6,
   "id": "4a1c25b2-663d-4146-8e69-f1e7023cb3ad",
   "metadata": {},
   "outputs": [
    {
     "data": {
      "text/html": [
       "<div>\n",
       "<style scoped>\n",
       "    .dataframe tbody tr th:only-of-type {\n",
       "        vertical-align: middle;\n",
       "    }\n",
       "\n",
       "    .dataframe tbody tr th {\n",
       "        vertical-align: top;\n",
       "    }\n",
       "\n",
       "    .dataframe thead th {\n",
       "        text-align: right;\n",
       "    }\n",
       "</style>\n",
       "<table border=\"1\" class=\"dataframe\">\n",
       "  <thead>\n",
       "    <tr style=\"text-align: right;\">\n",
       "      <th></th>\n",
       "      <th>obs</th>\n",
       "      <th>T9</th>\n",
       "      <th>T12</th>\n",
       "      <th>T15</th>\n",
       "      <th>Ne9</th>\n",
       "      <th>Ne12</th>\n",
       "      <th>Ne15</th>\n",
       "      <th>Vx9</th>\n",
       "      <th>Vx12</th>\n",
       "      <th>Vx15</th>\n",
       "      <th>maxO3v</th>\n",
       "      <th>vent</th>\n",
       "      <th>pluie</th>\n",
       "    </tr>\n",
       "  </thead>\n",
       "  <tbody>\n",
       "    <tr>\n",
       "      <th>0</th>\n",
       "      <td>601</td>\n",
       "      <td>15.6</td>\n",
       "      <td>18.5</td>\n",
       "      <td>18.4</td>\n",
       "      <td>4</td>\n",
       "      <td>4</td>\n",
       "      <td>8</td>\n",
       "      <td>0.6946</td>\n",
       "      <td>-1.7101</td>\n",
       "      <td>-0.6946</td>\n",
       "      <td>84</td>\n",
       "      <td>Nord</td>\n",
       "      <td>Sec</td>\n",
       "    </tr>\n",
       "    <tr>\n",
       "      <th>1</th>\n",
       "      <td>602</td>\n",
       "      <td>17.0</td>\n",
       "      <td>18.4</td>\n",
       "      <td>17.7</td>\n",
       "      <td>5</td>\n",
       "      <td>5</td>\n",
       "      <td>7</td>\n",
       "      <td>-4.3301</td>\n",
       "      <td>-4.0000</td>\n",
       "      <td>-3.0000</td>\n",
       "      <td>87</td>\n",
       "      <td>Nord</td>\n",
       "      <td>Sec</td>\n",
       "    </tr>\n",
       "    <tr>\n",
       "      <th>2</th>\n",
       "      <td>603</td>\n",
       "      <td>15.3</td>\n",
       "      <td>17.6</td>\n",
       "      <td>19.5</td>\n",
       "      <td>2</td>\n",
       "      <td>5</td>\n",
       "      <td>4</td>\n",
       "      <td>2.9544</td>\n",
       "      <td>1.8794</td>\n",
       "      <td>0.5209</td>\n",
       "      <td>82</td>\n",
       "      <td>Est</td>\n",
       "      <td>Sec</td>\n",
       "    </tr>\n",
       "    <tr>\n",
       "      <th>3</th>\n",
       "      <td>604</td>\n",
       "      <td>16.2</td>\n",
       "      <td>19.7</td>\n",
       "      <td>22.5</td>\n",
       "      <td>1</td>\n",
       "      <td>1</td>\n",
       "      <td>0</td>\n",
       "      <td>0.9848</td>\n",
       "      <td>0.3473</td>\n",
       "      <td>-0.1736</td>\n",
       "      <td>92</td>\n",
       "      <td>Nord</td>\n",
       "      <td>Sec</td>\n",
       "    </tr>\n",
       "    <tr>\n",
       "      <th>4</th>\n",
       "      <td>605</td>\n",
       "      <td>17.4</td>\n",
       "      <td>20.5</td>\n",
       "      <td>20.4</td>\n",
       "      <td>8</td>\n",
       "      <td>8</td>\n",
       "      <td>7</td>\n",
       "      <td>-0.5000</td>\n",
       "      <td>-2.9544</td>\n",
       "      <td>-4.3301</td>\n",
       "      <td>114</td>\n",
       "      <td>Ouest</td>\n",
       "      <td>Sec</td>\n",
       "    </tr>\n",
       "  </tbody>\n",
       "</table>\n",
       "</div>"
      ],
      "text/plain": [
       "   obs    T9   T12   T15  Ne9  Ne12  Ne15     Vx9    Vx12    Vx15  maxO3v  \\\n",
       "0  601  15.6  18.5  18.4    4     4     8  0.6946 -1.7101 -0.6946      84   \n",
       "1  602  17.0  18.4  17.7    5     5     7 -4.3301 -4.0000 -3.0000      87   \n",
       "2  603  15.3  17.6  19.5    2     5     4  2.9544  1.8794  0.5209      82   \n",
       "3  604  16.2  19.7  22.5    1     1     0  0.9848  0.3473 -0.1736      92   \n",
       "4  605  17.4  20.5  20.4    8     8     7 -0.5000 -2.9544 -4.3301     114   \n",
       "\n",
       "    vent pluie  \n",
       "0   Nord   Sec  \n",
       "1   Nord   Sec  \n",
       "2    Est   Sec  \n",
       "3   Nord   Sec  \n",
       "4  Ouest   Sec  "
      ]
     },
     "execution_count": 6,
     "metadata": {},
     "output_type": "execute_result"
    }
   ],
   "source": [
    "# matrice X\n",
    "X = df.drop('maxO3', axis=1)\n",
    "X.head()"
   ]
  },
  {
   "cell_type": "code",
   "execution_count": 7,
   "id": "76d821d7-6f08-4d74-a62c-db527ee98930",
   "metadata": {},
   "outputs": [
    {
     "data": {
      "text/plain": [
       "0     87\n",
       "1     82\n",
       "2     92\n",
       "3    114\n",
       "4     94\n",
       "Name: maxO3, dtype: int64"
      ]
     },
     "execution_count": 7,
     "metadata": {},
     "output_type": "execute_result"
    }
   ],
   "source": [
    "# vecteur y\n",
    "y = df.maxO3\n",
    "y.head()"
   ]
  },
  {
   "cell_type": "code",
   "execution_count": 8,
   "id": "65d14d9c-32f8-4804-bac0-8e6a4ea6cafc",
   "metadata": {},
   "outputs": [
    {
     "data": {
      "text/plain": [
       "Sec      69\n",
       "Pluie    43\n",
       "Name: pluie, dtype: int64"
      ]
     },
     "execution_count": 8,
     "metadata": {},
     "output_type": "execute_result"
    }
   ],
   "source": [
    "df.pluie.value_counts()"
   ]
  },
  {
   "cell_type": "code",
   "execution_count": 9,
   "id": "2e615517-abd5-45b9-b683-48a4bd909c59",
   "metadata": {},
   "outputs": [
    {
     "data": {
      "text/html": [
       "<div>\n",
       "<style scoped>\n",
       "    .dataframe tbody tr th:only-of-type {\n",
       "        vertical-align: middle;\n",
       "    }\n",
       "\n",
       "    .dataframe tbody tr th {\n",
       "        vertical-align: top;\n",
       "    }\n",
       "\n",
       "    .dataframe thead th {\n",
       "        text-align: right;\n",
       "    }\n",
       "</style>\n",
       "<table border=\"1\" class=\"dataframe\">\n",
       "  <thead>\n",
       "    <tr style=\"text-align: right;\">\n",
       "      <th></th>\n",
       "      <th>obs</th>\n",
       "      <th>T9</th>\n",
       "      <th>T12</th>\n",
       "      <th>T15</th>\n",
       "      <th>Ne9</th>\n",
       "      <th>Ne12</th>\n",
       "      <th>Ne15</th>\n",
       "      <th>Vx9</th>\n",
       "      <th>Vx12</th>\n",
       "      <th>Vx15</th>\n",
       "      <th>maxO3v</th>\n",
       "      <th>vent_Nord</th>\n",
       "      <th>vent_Ouest</th>\n",
       "      <th>vent_Sud</th>\n",
       "      <th>pluie_Sec</th>\n",
       "    </tr>\n",
       "  </thead>\n",
       "  <tbody>\n",
       "    <tr>\n",
       "      <th>0</th>\n",
       "      <td>601</td>\n",
       "      <td>15.6</td>\n",
       "      <td>18.5</td>\n",
       "      <td>18.4</td>\n",
       "      <td>4</td>\n",
       "      <td>4</td>\n",
       "      <td>8</td>\n",
       "      <td>0.6946</td>\n",
       "      <td>-1.7101</td>\n",
       "      <td>-0.6946</td>\n",
       "      <td>84</td>\n",
       "      <td>1</td>\n",
       "      <td>0</td>\n",
       "      <td>0</td>\n",
       "      <td>1</td>\n",
       "    </tr>\n",
       "    <tr>\n",
       "      <th>1</th>\n",
       "      <td>602</td>\n",
       "      <td>17.0</td>\n",
       "      <td>18.4</td>\n",
       "      <td>17.7</td>\n",
       "      <td>5</td>\n",
       "      <td>5</td>\n",
       "      <td>7</td>\n",
       "      <td>-4.3301</td>\n",
       "      <td>-4.0000</td>\n",
       "      <td>-3.0000</td>\n",
       "      <td>87</td>\n",
       "      <td>1</td>\n",
       "      <td>0</td>\n",
       "      <td>0</td>\n",
       "      <td>1</td>\n",
       "    </tr>\n",
       "    <tr>\n",
       "      <th>2</th>\n",
       "      <td>603</td>\n",
       "      <td>15.3</td>\n",
       "      <td>17.6</td>\n",
       "      <td>19.5</td>\n",
       "      <td>2</td>\n",
       "      <td>5</td>\n",
       "      <td>4</td>\n",
       "      <td>2.9544</td>\n",
       "      <td>1.8794</td>\n",
       "      <td>0.5209</td>\n",
       "      <td>82</td>\n",
       "      <td>0</td>\n",
       "      <td>0</td>\n",
       "      <td>0</td>\n",
       "      <td>1</td>\n",
       "    </tr>\n",
       "    <tr>\n",
       "      <th>3</th>\n",
       "      <td>604</td>\n",
       "      <td>16.2</td>\n",
       "      <td>19.7</td>\n",
       "      <td>22.5</td>\n",
       "      <td>1</td>\n",
       "      <td>1</td>\n",
       "      <td>0</td>\n",
       "      <td>0.9848</td>\n",
       "      <td>0.3473</td>\n",
       "      <td>-0.1736</td>\n",
       "      <td>92</td>\n",
       "      <td>1</td>\n",
       "      <td>0</td>\n",
       "      <td>0</td>\n",
       "      <td>1</td>\n",
       "    </tr>\n",
       "    <tr>\n",
       "      <th>4</th>\n",
       "      <td>605</td>\n",
       "      <td>17.4</td>\n",
       "      <td>20.5</td>\n",
       "      <td>20.4</td>\n",
       "      <td>8</td>\n",
       "      <td>8</td>\n",
       "      <td>7</td>\n",
       "      <td>-0.5000</td>\n",
       "      <td>-2.9544</td>\n",
       "      <td>-4.3301</td>\n",
       "      <td>114</td>\n",
       "      <td>0</td>\n",
       "      <td>1</td>\n",
       "      <td>0</td>\n",
       "      <td>1</td>\n",
       "    </tr>\n",
       "  </tbody>\n",
       "</table>\n",
       "</div>"
      ],
      "text/plain": [
       "   obs    T9   T12   T15  Ne9  Ne12  Ne15     Vx9    Vx12    Vx15  maxO3v  \\\n",
       "0  601  15.6  18.5  18.4    4     4     8  0.6946 -1.7101 -0.6946      84   \n",
       "1  602  17.0  18.4  17.7    5     5     7 -4.3301 -4.0000 -3.0000      87   \n",
       "2  603  15.3  17.6  19.5    2     5     4  2.9544  1.8794  0.5209      82   \n",
       "3  604  16.2  19.7  22.5    1     1     0  0.9848  0.3473 -0.1736      92   \n",
       "4  605  17.4  20.5  20.4    8     8     7 -0.5000 -2.9544 -4.3301     114   \n",
       "\n",
       "   vent_Nord  vent_Ouest  vent_Sud  pluie_Sec  \n",
       "0          1           0         0          1  \n",
       "1          1           0         0          1  \n",
       "2          0           0         0          1  \n",
       "3          1           0         0          1  \n",
       "4          0           1         0          1  "
      ]
     },
     "execution_count": 9,
     "metadata": {},
     "output_type": "execute_result"
    }
   ],
   "source": [
    "# get_dummies for vent and pluie\n",
    "X = pd.get_dummies(data=X, columns=['vent', 'pluie'], drop_first=True)\n",
    "#X = pd.concat([X.drop(['vent', 'pluie'], axis=1), dummy], axis=1)\n",
    "X.head()"
   ]
  },
  {
   "cell_type": "code",
   "execution_count": 10,
   "id": "a625b136-c8d0-43d1-9089-7cbe65586b4b",
   "metadata": {},
   "outputs": [
    {
     "data": {
      "text/plain": [
       "((112, 15), (112,))"
      ]
     },
     "execution_count": 10,
     "metadata": {},
     "output_type": "execute_result"
    }
   ],
   "source": [
    "# vérifier les tailles\n",
    "X.shape, y.shape"
   ]
  },
  {
   "cell_type": "code",
   "execution_count": null,
   "id": "a1cc3842-8fa7-4c75-8a6c-fdda3b659c6e",
   "metadata": {},
   "outputs": [],
   "source": []
  },
  {
   "cell_type": "code",
   "execution_count": 11,
   "id": "04dd5477-e7d0-4e7e-a516-043f7937a012",
   "metadata": {},
   "outputs": [
    {
     "data": {
      "text/plain": [
       "((102, 15), (10, 15), (102,), (10,))"
      ]
     },
     "execution_count": 11,
     "metadata": {},
     "output_type": "execute_result"
    }
   ],
   "source": [
    "#Création des échantillons de test et d'entraînement\n",
    "from sklearn.model_selection import train_test_split\n",
    "X_train, X_test, y_train, y_test = train_test_split(X, y, test_size=10)\n",
    "X_train.shape, X_test.shape, y_train.shape, y_test.shape"
   ]
  },
  {
   "cell_type": "code",
   "execution_count": 12,
   "id": "b685f009-8351-4df2-8fc9-267dd9404d01",
   "metadata": {},
   "outputs": [
    {
     "data": {
      "text/plain": [
       "LinearRegression()"
      ]
     },
     "execution_count": 12,
     "metadata": {},
     "output_type": "execute_result"
    }
   ],
   "source": [
    "#scikit learn model\n",
    "from sklearn.linear_model import LinearRegression\n",
    "lr = LinearRegression()\n",
    "lr.fit(X_train, y_train)"
   ]
  },
  {
   "cell_type": "code",
   "execution_count": 13,
   "id": "95c73ccc-c9fe-482e-8dd0-39f35a0d5834",
   "metadata": {},
   "outputs": [
    {
     "name": "stdout",
     "output_type": "stream",
     "text": [
      "sc_train=0.7790652494663795 et sc_test=0.5032045277137367\n"
     ]
    }
   ],
   "source": [
    "# évaluation R2\n",
    "sc_train = lr.score(X_train, y_train)\n",
    "sc_test = lr.score(X_test, y_test)\n",
    "print(f\"{sc_train=} et {sc_test=}\")"
   ]
  },
  {
   "cell_type": "code",
   "execution_count": 14,
   "id": "f9fcd89f-4053-476e-bf8c-2531126e1a15",
   "metadata": {},
   "outputs": [
    {
     "name": "stdout",
     "output_type": "stream",
     "text": [
      "mse_train=13.525955476121968 et mse_test=13.075822335212434\n"
     ]
    }
   ],
   "source": [
    "# évaluation RMSE\n",
    "from sklearn.metrics import mean_squared_error\n",
    "mse_train = mean_squared_error(y_train, lr.predict(X_train), squared=False)\n",
    "mse_test = mean_squared_error(y_test, lr.predict(X_test), squared=False)\n",
    "print(f\"{mse_train=} et {mse_test=}\")"
   ]
  },
  {
   "cell_type": "code",
   "execution_count": 15,
   "id": "c89451db-2675-4a81-ad58-0f3130efbc2c",
   "metadata": {},
   "outputs": [
    {
     "data": {
      "text/html": [
       "<div>\n",
       "<style scoped>\n",
       "    .dataframe tbody tr th:only-of-type {\n",
       "        vertical-align: middle;\n",
       "    }\n",
       "\n",
       "    .dataframe tbody tr th {\n",
       "        vertical-align: top;\n",
       "    }\n",
       "\n",
       "    .dataframe thead th {\n",
       "        text-align: right;\n",
       "    }\n",
       "</style>\n",
       "<table border=\"1\" class=\"dataframe\">\n",
       "  <thead>\n",
       "    <tr style=\"text-align: right;\">\n",
       "      <th></th>\n",
       "      <th>y_true</th>\n",
       "      <th>y_pred</th>\n",
       "    </tr>\n",
       "  </thead>\n",
       "  <tbody>\n",
       "    <tr>\n",
       "      <th>2</th>\n",
       "      <td>92</td>\n",
       "      <td>87.145702</td>\n",
       "    </tr>\n",
       "    <tr>\n",
       "      <th>94</th>\n",
       "      <td>78</td>\n",
       "      <td>76.399619</td>\n",
       "    </tr>\n",
       "    <tr>\n",
       "      <th>102</th>\n",
       "      <td>71</td>\n",
       "      <td>66.175200</td>\n",
       "    </tr>\n",
       "    <tr>\n",
       "      <th>77</th>\n",
       "      <td>131</td>\n",
       "      <td>119.726540</td>\n",
       "    </tr>\n",
       "    <tr>\n",
       "      <th>111</th>\n",
       "      <td>70</td>\n",
       "      <td>75.327845</td>\n",
       "    </tr>\n",
       "    <tr>\n",
       "      <th>89</th>\n",
       "      <td>71</td>\n",
       "      <td>59.880137</td>\n",
       "    </tr>\n",
       "    <tr>\n",
       "      <th>27</th>\n",
       "      <td>70</td>\n",
       "      <td>89.634678</td>\n",
       "    </tr>\n",
       "    <tr>\n",
       "      <th>8</th>\n",
       "      <td>101</td>\n",
       "      <td>87.013484</td>\n",
       "    </tr>\n",
       "    <tr>\n",
       "      <th>74</th>\n",
       "      <td>76</td>\n",
       "      <td>76.241098</td>\n",
       "    </tr>\n",
       "    <tr>\n",
       "      <th>45</th>\n",
       "      <td>92</td>\n",
       "      <td>63.715063</td>\n",
       "    </tr>\n",
       "  </tbody>\n",
       "</table>\n",
       "</div>"
      ],
      "text/plain": [
       "     y_true      y_pred\n",
       "2        92   87.145702\n",
       "94       78   76.399619\n",
       "102      71   66.175200\n",
       "77      131  119.726540\n",
       "111      70   75.327845\n",
       "89       71   59.880137\n",
       "27       70   89.634678\n",
       "8       101   87.013484\n",
       "74       76   76.241098\n",
       "45       92   63.715063"
      ]
     },
     "execution_count": 15,
     "metadata": {},
     "output_type": "execute_result"
    }
   ],
   "source": [
    "# prédictions\n",
    "pred = pd.DataFrame()\n",
    "pred['y_true'] = y_test\n",
    "pred['y_pred'] = lr.predict(X_test)\n",
    "#pred['erreur_absolue'] = abs(pred['y_true'] - pred['y_pred'])\n",
    "pred"
   ]
  },
  {
   "cell_type": "code",
   "execution_count": 16,
   "id": "433cb0ee-47e2-41e4-bd79-4bb61bf15488",
   "metadata": {},
   "outputs": [
    {
     "data": {
      "image/png": "[encoded data removed]",
      "text/plain": [
       "<Figure size 720x720 with 1 Axes>"
      ]
     },
     "metadata": {
      "needs_background": "light"
     },
     "output_type": "display_data"
    }
   ],
   "source": [
    "plt.figure(figsize=(10,10))\n",
    "plt.scatter(pred.y_true, pred.y_pred, c='green')\n",
    "\n",
    "p1 = max(max(pred.y_true), max(pred.y_pred))\n",
    "p2 = min(min(pred.y_true), min(pred.y_pred))\n",
    "plt.plot([p1, p2], [p1, p2], 'b-')\n",
    "plt.xlabel('True Values', fontsize=15)\n",
    "plt.ylabel('Predictions', fontsize=15)\n",
    "plt.axis('equal')\n",
    "plt.show()"
   ]
  },
  {
   "cell_type": "code",
   "execution_count": 18,
   "id": "c5061a01-e943-451c-a205-dd8f424d8fa6",
   "metadata": {},
   "outputs": [
    {
     "name": "stderr",
     "output_type": "stream",
     "text": [
      "C:\\Users\\catri\\anaconda3\\lib\\site-packages\\statsmodels\\tsa\\base\\tsa_model.py:7: FutureWarning: pandas.Int64Index is deprecated and will be removed from pandas in a future version. Use pandas.Index with the appropriate dtype instead.\n",
      "  from pandas import (to_datetime, Int64Index, DatetimeIndex, Period,\n",
      "C:\\Users\\catri\\anaconda3\\lib\\site-packages\\statsmodels\\tsa\\base\\tsa_model.py:7: FutureWarning: pandas.Float64Index is deprecated and will be removed from pandas in a future version. Use pandas.Index with the appropriate dtype instead.\n",
      "  from pandas import (to_datetime, Int64Index, DatetimeIndex, Period,\n",
      "C:\\Users\\catri\\anaconda3\\lib\\site-packages\\statsmodels\\tsa\\tsatools.py:142: FutureWarning: In a future version of pandas all arguments of concat except for the argument 'objs' will be keyword-only.\n",
      "  x = pd.concat(x[::order], 1)\n"
     ]
    },
    {
     "data": {
      "text/html": [
       "<table class=\"simpletable\">\n",
       "<caption>OLS Regression Results</caption>\n",
       "<tr>\n",
       "  <th>Dep. Variable:</th>          <td>maxO3</td>      <th>  R-squared:         </th> <td>   0.779</td>\n",
       "</tr>\n",
       "<tr>\n",
       "  <th>Model:</th>                   <td>OLS</td>       <th>  Adj. R-squared:    </th> <td>   0.741</td>\n",
       "</tr>\n",
       "<tr>\n",
       "  <th>Method:</th>             <td>Least Squares</td>  <th>  F-statistic:       </th> <td>   20.22</td>\n",
       "</tr>\n",
       "<tr>\n",
       "  <th>Date:</th>             <td>Tue, 10 May 2022</td> <th>  Prob (F-statistic):</th> <td>4.97e-22</td>\n",
       "</tr>\n",
       "<tr>\n",
       "  <th>Time:</th>                 <td>14:51:21</td>     <th>  Log-Likelihood:    </th> <td> -410.40</td>\n",
       "</tr>\n",
       "<tr>\n",
       "  <th>No. Observations:</th>      <td>   102</td>      <th>  AIC:               </th> <td>   852.8</td>\n",
       "</tr>\n",
       "<tr>\n",
       "  <th>Df Residuals:</th>          <td>    86</td>      <th>  BIC:               </th> <td>   894.8</td>\n",
       "</tr>\n",
       "<tr>\n",
       "  <th>Df Model:</th>              <td>    15</td>      <th>                     </th>     <td> </td>   \n",
       "</tr>\n",
       "<tr>\n",
       "  <th>Covariance Type:</th>      <td>nonrobust</td>    <th>                     </th>     <td> </td>   \n",
       "</tr>\n",
       "</table>\n",
       "<table class=\"simpletable\">\n",
       "<tr>\n",
       "       <td></td>         <th>coef</th>     <th>std err</th>      <th>t</th>      <th>P>|t|</th>  <th>[0.025</th>    <th>0.975]</th>  \n",
       "</tr>\n",
       "<tr>\n",
       "  <th>const</th>      <td>   26.1845</td> <td>   21.372</td> <td>    1.225</td> <td> 0.224</td> <td>  -16.302</td> <td>   68.671</td>\n",
       "</tr>\n",
       "<tr>\n",
       "  <th>obs</th>        <td>   -0.0143</td> <td>    0.017</td> <td>   -0.853</td> <td> 0.396</td> <td>   -0.047</td> <td>    0.019</td>\n",
       "</tr>\n",
       "<tr>\n",
       "  <th>T9</th>         <td>   -0.0577</td> <td>    1.330</td> <td>   -0.043</td> <td> 0.965</td> <td>   -2.702</td> <td>    2.586</td>\n",
       "</tr>\n",
       "<tr>\n",
       "  <th>T12</th>        <td>    1.6838</td> <td>    1.597</td> <td>    1.055</td> <td> 0.295</td> <td>   -1.490</td> <td>    4.858</td>\n",
       "</tr>\n",
       "<tr>\n",
       "  <th>T15</th>        <td>    0.8002</td> <td>    1.253</td> <td>    0.639</td> <td> 0.525</td> <td>   -1.690</td> <td>    3.290</td>\n",
       "</tr>\n",
       "<tr>\n",
       "  <th>Ne9</th>        <td>   -1.9505</td> <td>    1.094</td> <td>   -1.782</td> <td> 0.078</td> <td>   -4.126</td> <td>    0.225</td>\n",
       "</tr>\n",
       "<tr>\n",
       "  <th>Ne12</th>       <td>   -0.9332</td> <td>    1.520</td> <td>   -0.614</td> <td> 0.541</td> <td>   -3.955</td> <td>    2.089</td>\n",
       "</tr>\n",
       "<tr>\n",
       "  <th>Ne15</th>       <td>    0.3040</td> <td>    1.091</td> <td>    0.278</td> <td> 0.781</td> <td>   -1.866</td> <td>    2.474</td>\n",
       "</tr>\n",
       "<tr>\n",
       "  <th>Vx9</th>        <td>    0.3598</td> <td>    1.115</td> <td>    0.323</td> <td> 0.748</td> <td>   -1.856</td> <td>    2.575</td>\n",
       "</tr>\n",
       "<tr>\n",
       "  <th>Vx12</th>       <td>    0.9635</td> <td>    1.397</td> <td>    0.689</td> <td> 0.492</td> <td>   -1.814</td> <td>    3.741</td>\n",
       "</tr>\n",
       "<tr>\n",
       "  <th>Vx15</th>       <td>    0.9434</td> <td>    1.054</td> <td>    0.896</td> <td> 0.373</td> <td>   -1.151</td> <td>    3.038</td>\n",
       "</tr>\n",
       "<tr>\n",
       "  <th>maxO3v</th>     <td>    0.3360</td> <td>    0.073</td> <td>    4.634</td> <td> 0.000</td> <td>    0.192</td> <td>    0.480</td>\n",
       "</tr>\n",
       "<tr>\n",
       "  <th>vent_Nord</th>  <td>    2.0126</td> <td>    7.560</td> <td>    0.266</td> <td> 0.791</td> <td>  -13.016</td> <td>   17.041</td>\n",
       "</tr>\n",
       "<tr>\n",
       "  <th>vent_Ouest</th> <td>    9.0260</td> <td>    9.353</td> <td>    0.965</td> <td> 0.337</td> <td>   -9.566</td> <td>   27.618</td>\n",
       "</tr>\n",
       "<tr>\n",
       "  <th>vent_Sud</th>   <td>    8.7375</td> <td>    7.940</td> <td>    1.100</td> <td> 0.274</td> <td>   -7.047</td> <td>   24.522</td>\n",
       "</tr>\n",
       "<tr>\n",
       "  <th>pluie_Sec</th>  <td>    1.6358</td> <td>    3.974</td> <td>    0.412</td> <td> 0.682</td> <td>   -6.263</td> <td>    9.535</td>\n",
       "</tr>\n",
       "</table>\n",
       "<table class=\"simpletable\">\n",
       "<tr>\n",
       "  <th>Omnibus:</th>       <td> 6.766</td> <th>  Durbin-Watson:     </th> <td>   1.927</td>\n",
       "</tr>\n",
       "<tr>\n",
       "  <th>Prob(Omnibus):</th> <td> 0.034</td> <th>  Jarque-Bera (JB):  </th> <td>  12.005</td>\n",
       "</tr>\n",
       "<tr>\n",
       "  <th>Skew:</th>          <td> 0.026</td> <th>  Prob(JB):          </th> <td> 0.00247</td>\n",
       "</tr>\n",
       "<tr>\n",
       "  <th>Kurtosis:</th>      <td> 4.680</td> <th>  Cond. No.          </th> <td>1.15e+04</td>\n",
       "</tr>\n",
       "</table><br/><br/>Notes:<br/>[1] Standard Errors assume that the covariance matrix of the errors is correctly specified.<br/>[2] The condition number is large, 1.15e+04. This might indicate that there are<br/>strong multicollinearity or other numerical problems."
      ],
      "text/plain": [
       "<class 'statsmodels.iolib.summary.Summary'>\n",
       "\"\"\"\n",
       "                            OLS Regression Results                            \n",
       "==============================================================================\n",
       "Dep. Variable:                  maxO3   R-squared:                       0.779\n",
       "Model:                            OLS   Adj. R-squared:                  0.741\n",
       "Method:                 Least Squares   F-statistic:                     20.22\n",
       "Date:                Tue, 10 May 2022   Prob (F-statistic):           4.97e-22\n",
       "Time:                        14:51:21   Log-Likelihood:                -410.40\n",
       "No. Observations:                 102   AIC:                             852.8\n",
       "Df Residuals:                      86   BIC:                             894.8\n",
       "Df Model:                          15                                         \n",
       "Covariance Type:            nonrobust                                         \n",
       "==============================================================================\n",
       "                 coef    std err          t      P>|t|      [0.025      0.975]\n",
       "------------------------------------------------------------------------------\n",
       "const         26.1845     21.372      1.225      0.224     -16.302      68.671\n",
       "obs           -0.0143      0.017     -0.853      0.396      -0.047       0.019\n",
       "T9            -0.0577      1.330     -0.043      0.965      -2.702       2.586\n",
       "T12            1.6838      1.597      1.055      0.295      -1.490       4.858\n",
       "T15            0.8002      1.253      0.639      0.525      -1.690       3.290\n",
       "Ne9           -1.9505      1.094     -1.782      0.078      -4.126       0.225\n",
       "Ne12          -0.9332      1.520     -0.614      0.541      -3.955       2.089\n",
       "Ne15           0.3040      1.091      0.278      0.781      -1.866       2.474\n",
       "Vx9            0.3598      1.115      0.323      0.748      -1.856       2.575\n",
       "Vx12           0.9635      1.397      0.689      0.492      -1.814       3.741\n",
       "Vx15           0.9434      1.054      0.896      0.373      -1.151       3.038\n",
       "maxO3v         0.3360      0.073      4.634      0.000       0.192       0.480\n",
       "vent_Nord      2.0126      7.560      0.266      0.791     -13.016      17.041\n",
       "vent_Ouest     9.0260      9.353      0.965      0.337      -9.566      27.618\n",
       "vent_Sud       8.7375      7.940      1.100      0.274      -7.047      24.522\n",
       "pluie_Sec      1.6358      3.974      0.412      0.682      -6.263       9.535\n",
       "==============================================================================\n",
       "Omnibus:                        6.766   Durbin-Watson:                   1.927\n",
       "Prob(Omnibus):                  0.034   Jarque-Bera (JB):               12.005\n",
       "Skew:                           0.026   Prob(JB):                      0.00247\n",
       "Kurtosis:                       4.680   Cond. No.                     1.15e+04\n",
       "==============================================================================\n",
       "\n",
       "Notes:\n",
       "[1] Standard Errors assume that the covariance matrix of the errors is correctly specified.\n",
       "[2] The condition number is large, 1.15e+04. This might indicate that there are\n",
       "strong multicollinearity or other numerical problems.\n",
       "\"\"\""
      ]
     },
     "execution_count": 18,
     "metadata": {},
     "output_type": "execute_result"
    }
   ],
   "source": [
    "#using Statsmodel\n",
    "from statsmodels.api import OLS, add_constant\n",
    "lr2 = OLS(y_train, add_constant(X_train))\n",
    "res = lr2.fit()\n",
    "res.summary() #evaluation"
   ]
  },
  {
   "cell_type": "code",
   "execution_count": 19,
   "id": "13248366-ef13-43b1-a1a9-fa6b94e758ec",
   "metadata": {},
   "outputs": [
    {
     "name": "stderr",
     "output_type": "stream",
     "text": [
      "C:\\Users\\catri\\anaconda3\\lib\\site-packages\\statsmodels\\tsa\\tsatools.py:142: FutureWarning: In a future version of pandas all arguments of concat except for the argument 'objs' will be keyword-only.\n",
      "  x = pd.concat(x[::order], 1)\n"
     ]
    },
    {
     "data": {
      "text/plain": [
       "2       87.145702\n",
       "94      76.399619\n",
       "102     66.175200\n",
       "77     119.726540\n",
       "111     75.327845\n",
       "89      59.880137\n",
       "27      89.634678\n",
       "8       87.013484\n",
       "74      76.241098\n",
       "45      63.715063\n",
       "dtype: float64"
      ]
     },
     "execution_count": 19,
     "metadata": {},
     "output_type": "execute_result"
    }
   ],
   "source": [
    "# predictions\n",
    "res.predict(add_constant(X_test))"
   ]
  },
  {
   "cell_type": "code",
   "execution_count": 20,
   "id": "402258d0-cb9f-4e30-84f4-0549f009a874",
   "metadata": {},
   "outputs": [
    {
     "data": {
      "text/html": [
       "<div>\n",
       "<style scoped>\n",
       "    .dataframe tbody tr th:only-of-type {\n",
       "        vertical-align: middle;\n",
       "    }\n",
       "\n",
       "    .dataframe tbody tr th {\n",
       "        vertical-align: top;\n",
       "    }\n",
       "\n",
       "    .dataframe thead th {\n",
       "        text-align: right;\n",
       "    }\n",
       "</style>\n",
       "<table border=\"1\" class=\"dataframe\">\n",
       "  <thead>\n",
       "    <tr style=\"text-align: right;\">\n",
       "      <th></th>\n",
       "      <th>obs</th>\n",
       "      <th>T9</th>\n",
       "      <th>T12</th>\n",
       "      <th>T15</th>\n",
       "      <th>Ne9</th>\n",
       "      <th>Ne12</th>\n",
       "      <th>Ne15</th>\n",
       "      <th>Vx9</th>\n",
       "      <th>Vx12</th>\n",
       "      <th>Vx15</th>\n",
       "      <th>maxO3v</th>\n",
       "      <th>vent_Nord</th>\n",
       "      <th>vent_Ouest</th>\n",
       "      <th>vent_Sud</th>\n",
       "      <th>pluie_Sec</th>\n",
       "    </tr>\n",
       "  </thead>\n",
       "  <tbody>\n",
       "    <tr>\n",
       "      <th>0</th>\n",
       "      <td>601</td>\n",
       "      <td>15.6</td>\n",
       "      <td>18.5</td>\n",
       "      <td>18.4</td>\n",
       "      <td>4</td>\n",
       "      <td>4</td>\n",
       "      <td>8</td>\n",
       "      <td>0.6946</td>\n",
       "      <td>-1.7101</td>\n",
       "      <td>-0.6946</td>\n",
       "      <td>84</td>\n",
       "      <td>1</td>\n",
       "      <td>0</td>\n",
       "      <td>0</td>\n",
       "      <td>1</td>\n",
       "    </tr>\n",
       "    <tr>\n",
       "      <th>1</th>\n",
       "      <td>602</td>\n",
       "      <td>17.0</td>\n",
       "      <td>18.4</td>\n",
       "      <td>17.7</td>\n",
       "      <td>5</td>\n",
       "      <td>5</td>\n",
       "      <td>7</td>\n",
       "      <td>-4.3301</td>\n",
       "      <td>-4.0000</td>\n",
       "      <td>-3.0000</td>\n",
       "      <td>87</td>\n",
       "      <td>1</td>\n",
       "      <td>0</td>\n",
       "      <td>0</td>\n",
       "      <td>1</td>\n",
       "    </tr>\n",
       "    <tr>\n",
       "      <th>2</th>\n",
       "      <td>603</td>\n",
       "      <td>15.3</td>\n",
       "      <td>17.6</td>\n",
       "      <td>19.5</td>\n",
       "      <td>2</td>\n",
       "      <td>5</td>\n",
       "      <td>4</td>\n",
       "      <td>2.9544</td>\n",
       "      <td>1.8794</td>\n",
       "      <td>0.5209</td>\n",
       "      <td>82</td>\n",
       "      <td>0</td>\n",
       "      <td>0</td>\n",
       "      <td>0</td>\n",
       "      <td>1</td>\n",
       "    </tr>\n",
       "    <tr>\n",
       "      <th>3</th>\n",
       "      <td>604</td>\n",
       "      <td>16.2</td>\n",
       "      <td>19.7</td>\n",
       "      <td>22.5</td>\n",
       "      <td>1</td>\n",
       "      <td>1</td>\n",
       "      <td>0</td>\n",
       "      <td>0.9848</td>\n",
       "      <td>0.3473</td>\n",
       "      <td>-0.1736</td>\n",
       "      <td>92</td>\n",
       "      <td>1</td>\n",
       "      <td>0</td>\n",
       "      <td>0</td>\n",
       "      <td>1</td>\n",
       "    </tr>\n",
       "    <tr>\n",
       "      <th>4</th>\n",
       "      <td>605</td>\n",
       "      <td>17.4</td>\n",
       "      <td>20.5</td>\n",
       "      <td>20.4</td>\n",
       "      <td>8</td>\n",
       "      <td>8</td>\n",
       "      <td>7</td>\n",
       "      <td>-0.5000</td>\n",
       "      <td>-2.9544</td>\n",
       "      <td>-4.3301</td>\n",
       "      <td>114</td>\n",
       "      <td>0</td>\n",
       "      <td>1</td>\n",
       "      <td>0</td>\n",
       "      <td>1</td>\n",
       "    </tr>\n",
       "  </tbody>\n",
       "</table>\n",
       "</div>"
      ],
      "text/plain": [
       "   obs    T9   T12   T15  Ne9  Ne12  Ne15     Vx9    Vx12    Vx15  maxO3v  \\\n",
       "0  601  15.6  18.5  18.4    4     4     8  0.6946 -1.7101 -0.6946      84   \n",
       "1  602  17.0  18.4  17.7    5     5     7 -4.3301 -4.0000 -3.0000      87   \n",
       "2  603  15.3  17.6  19.5    2     5     4  2.9544  1.8794  0.5209      82   \n",
       "3  604  16.2  19.7  22.5    1     1     0  0.9848  0.3473 -0.1736      92   \n",
       "4  605  17.4  20.5  20.4    8     8     7 -0.5000 -2.9544 -4.3301     114   \n",
       "\n",
       "   vent_Nord  vent_Ouest  vent_Sud  pluie_Sec  \n",
       "0          1           0         0          1  \n",
       "1          1           0         0          1  \n",
       "2          0           0         0          1  \n",
       "3          1           0         0          1  \n",
       "4          0           1         0          1  "
      ]
     },
     "execution_count": 20,
     "metadata": {},
     "output_type": "execute_result"
    }
   ],
   "source": [
    "X.head()"
   ]
  },
  {
   "cell_type": "code",
   "execution_count": 21,
   "id": "fc772b2d-5fdd-4b9e-abe7-bfe64d3b0297",
   "metadata": {},
   "outputs": [
    {
     "ename": "IndexError",
     "evalue": "index 21 is out of bounds for axis 0 with size 10",
     "output_type": "error",
     "traceback": [
      "\u001b[1;31m---------------------------------------------------------------------------\u001b[0m",
      "\u001b[1;31mIndexError\u001b[0m                                Traceback (most recent call last)",
      "Input \u001b[1;32mIn [21]\u001b[0m, in \u001b[0;36m<cell line: 14>\u001b[1;34m()\u001b[0m\n\u001b[0;32m     11\u001b[0m ax1 \u001b[38;5;241m=\u001b[39m fig\u001b[38;5;241m.\u001b[39madd_subplot(\u001b[38;5;241m131\u001b[39m, projection\u001b[38;5;241m=\u001b[39m\u001b[38;5;124m'\u001b[39m\u001b[38;5;124m3d\u001b[39m\u001b[38;5;124m'\u001b[39m)\n\u001b[0;32m     13\u001b[0m ax1\u001b[38;5;241m.\u001b[39mscatter(x1, x2, y)\n\u001b[1;32m---> 14\u001b[0m \u001b[43max1\u001b[49m\u001b[38;5;241;43m.\u001b[39;49m\u001b[43mplot_trisurf\u001b[49m\u001b[43m(\u001b[49m\u001b[43mx1\u001b[49m\u001b[43m,\u001b[49m\u001b[43m \u001b[49m\u001b[43mx2\u001b[49m\u001b[43m,\u001b[49m\u001b[43m \u001b[49m\u001b[43mpred\u001b[49m\u001b[43m,\u001b[49m\u001b[43m \u001b[49m\u001b[43mfacecolor\u001b[49m\u001b[38;5;241;43m=\u001b[39;49m\u001b[38;5;124;43m'\u001b[39;49m\u001b[38;5;124;43mgreen\u001b[39;49m\u001b[38;5;124;43m'\u001b[39;49m\u001b[43m,\u001b[49m\u001b[43m \u001b[49m\u001b[43malpha\u001b[49m\u001b[38;5;241;43m=\u001b[39;49m\u001b[38;5;241;43m0.5\u001b[39;49m\u001b[43m)\u001b[49m\n\u001b[0;32m     16\u001b[0m plt\u001b[38;5;241m.\u001b[39mshow()\n",
      "File \u001b[1;32m~\\anaconda3\\lib\\site-packages\\mpl_toolkits\\mplot3d\\axes3d.py:1987\u001b[0m, in \u001b[0;36mAxes3D.plot_trisurf\u001b[1;34m(self, color, norm, vmin, vmax, lightsource, *args, **kwargs)\u001b[0m\n\u001b[0;32m   1985\u001b[0m xt \u001b[38;5;241m=\u001b[39m tri\u001b[38;5;241m.\u001b[39mx[triangles]\n\u001b[0;32m   1986\u001b[0m yt \u001b[38;5;241m=\u001b[39m tri\u001b[38;5;241m.\u001b[39my[triangles]\n\u001b[1;32m-> 1987\u001b[0m zt \u001b[38;5;241m=\u001b[39m \u001b[43mz\u001b[49m\u001b[43m[\u001b[49m\u001b[43mtriangles\u001b[49m\u001b[43m]\u001b[49m\n\u001b[0;32m   1988\u001b[0m verts \u001b[38;5;241m=\u001b[39m np\u001b[38;5;241m.\u001b[39mstack((xt, yt, zt), axis\u001b[38;5;241m=\u001b[39m\u001b[38;5;241m-\u001b[39m\u001b[38;5;241m1\u001b[39m)\n\u001b[0;32m   1990\u001b[0m polyc \u001b[38;5;241m=\u001b[39m art3d\u001b[38;5;241m.\u001b[39mPoly3DCollection(verts, \u001b[38;5;241m*\u001b[39margs, \u001b[38;5;241m*\u001b[39m\u001b[38;5;241m*\u001b[39mkwargs)\n",
      "\u001b[1;31mIndexError\u001b[0m: index 21 is out of bounds for axis 0 with size 10"
     ]
    },
    {
     "data": {
      "image/png": "[encoded data removed]",
      "text/plain": [
       "<Figure size 1800x1800 with 1 Axes>"
      ]
     },
     "metadata": {
      "needs_background": "light"
     },
     "output_type": "display_data"
    }
   ],
   "source": [
    "#3D plotting\n",
    "from mpl_toolkits.mplot3d import Axes3D\n",
    "x1 = X['T12']\n",
    "x2 = X['pluie_Sec']\n",
    "#test = np.array([y])\n",
    "#test = test.reshape(1, -1)\n",
    "#pred = lr.predict(test)\n",
    "\n",
    "fig = plt.figure(figsize=(25,25))\n",
    "\n",
    "ax1 = fig.add_subplot(131, projection='3d')\n",
    "\n",
    "ax1.scatter(x1, x2, y)\n",
    "ax1.plot_trisurf(x1, x2, pred, facecolor='green', alpha=0.5)\n",
    "\n",
    "plt.show()"
   ]
  },
  {
   "cell_type": "code",
   "execution_count": null,
   "id": "c700b52e-4779-433d-aa7b-2a5e6908fbea",
   "metadata": {},
   "outputs": [],
   "source": [
    "## 2nd method with mean values to make GUI #####"
   ]
  },
  {
   "cell_type": "code",
   "execution_count": 24,
   "id": "0f79714c-1b99-4425-9783-0c2b7c11d56c",
   "metadata": {},
   "outputs": [
    {
     "data": {
      "text/html": [
       "<div>\n",
       "<style scoped>\n",
       "    .dataframe tbody tr th:only-of-type {\n",
       "        vertical-align: middle;\n",
       "    }\n",
       "\n",
       "    .dataframe tbody tr th {\n",
       "        vertical-align: top;\n",
       "    }\n",
       "\n",
       "    .dataframe thead th {\n",
       "        text-align: right;\n",
       "    }\n",
       "</style>\n",
       "<table border=\"1\" class=\"dataframe\">\n",
       "  <thead>\n",
       "    <tr style=\"text-align: right;\">\n",
       "      <th></th>\n",
       "      <th>obs</th>\n",
       "      <th>maxO3</th>\n",
       "      <th>maxO3v</th>\n",
       "      <th>temp_mean</th>\n",
       "      <th>neb_mean</th>\n",
       "      <th>vent_mean</th>\n",
       "      <th>vent_Nord</th>\n",
       "      <th>vent_Ouest</th>\n",
       "      <th>vent_Sud</th>\n",
       "      <th>pluie_Sec</th>\n",
       "    </tr>\n",
       "  </thead>\n",
       "  <tbody>\n",
       "    <tr>\n",
       "      <th>0</th>\n",
       "      <td>601</td>\n",
       "      <td>87</td>\n",
       "      <td>84</td>\n",
       "      <td>17.500000</td>\n",
       "      <td>5.333333</td>\n",
       "      <td>-0.570033</td>\n",
       "      <td>1</td>\n",
       "      <td>0</td>\n",
       "      <td>0</td>\n",
       "      <td>1</td>\n",
       "    </tr>\n",
       "    <tr>\n",
       "      <th>1</th>\n",
       "      <td>602</td>\n",
       "      <td>82</td>\n",
       "      <td>87</td>\n",
       "      <td>17.700000</td>\n",
       "      <td>5.666667</td>\n",
       "      <td>-3.776700</td>\n",
       "      <td>1</td>\n",
       "      <td>0</td>\n",
       "      <td>0</td>\n",
       "      <td>1</td>\n",
       "    </tr>\n",
       "    <tr>\n",
       "      <th>2</th>\n",
       "      <td>603</td>\n",
       "      <td>92</td>\n",
       "      <td>82</td>\n",
       "      <td>17.466667</td>\n",
       "      <td>3.666667</td>\n",
       "      <td>1.784900</td>\n",
       "      <td>0</td>\n",
       "      <td>0</td>\n",
       "      <td>0</td>\n",
       "      <td>1</td>\n",
       "    </tr>\n",
       "    <tr>\n",
       "      <th>3</th>\n",
       "      <td>604</td>\n",
       "      <td>114</td>\n",
       "      <td>92</td>\n",
       "      <td>19.466667</td>\n",
       "      <td>0.666667</td>\n",
       "      <td>0.386167</td>\n",
       "      <td>1</td>\n",
       "      <td>0</td>\n",
       "      <td>0</td>\n",
       "      <td>1</td>\n",
       "    </tr>\n",
       "    <tr>\n",
       "      <th>4</th>\n",
       "      <td>605</td>\n",
       "      <td>94</td>\n",
       "      <td>114</td>\n",
       "      <td>19.433333</td>\n",
       "      <td>7.666667</td>\n",
       "      <td>-2.594833</td>\n",
       "      <td>0</td>\n",
       "      <td>1</td>\n",
       "      <td>0</td>\n",
       "      <td>1</td>\n",
       "    </tr>\n",
       "  </tbody>\n",
       "</table>\n",
       "</div>"
      ],
      "text/plain": [
       "   obs  maxO3  maxO3v  temp_mean  neb_mean  vent_mean  vent_Nord  vent_Ouest  \\\n",
       "0  601     87      84  17.500000  5.333333  -0.570033          1           0   \n",
       "1  602     82      87  17.700000  5.666667  -3.776700          1           0   \n",
       "2  603     92      82  17.466667  3.666667   1.784900          0           0   \n",
       "3  604    114      92  19.466667  0.666667   0.386167          1           0   \n",
       "4  605     94     114  19.433333  7.666667  -2.594833          0           1   \n",
       "\n",
       "   vent_Sud  pluie_Sec  \n",
       "0         0          1  \n",
       "1         0          1  \n",
       "2         0          1  \n",
       "3         0          1  \n",
       "4         0          1  "
      ]
     },
     "execution_count": 24,
     "metadata": {},
     "output_type": "execute_result"
    }
   ],
   "source": [
    "#creating new table with means for multi value variables\n",
    "df2 = pd.read_csv('ozone.txt', sep=\";\", decimal=',')\n",
    "\n",
    "temps = df2.loc[: , \"T9\":\"T15\"]\n",
    "df2['temp_mean'] = temps.mean(axis=1)\n",
    "Nuag = df2.loc[: , \"Ne9\":\"Ne15\"]\n",
    "df2['neb_mean'] = Nuag.mean(axis=1)\n",
    "vents = df2.loc[: , \"Vx9\":\"Vx15\"]\n",
    "df2['vent_mean'] = vents.mean(axis=1)\n",
    "#.drop('maxO3', axis=1)\n",
    "df_means = df2.drop(['T9', 'T12', 'T15', 'Ne9', 'Ne12', 'Ne15', 'Vx9', 'Vx12', 'Vx15'], axis=1)\n",
    "\n",
    "df_means = pd.get_dummies(data=df_means, columns=['vent', 'pluie'], drop_first=True)\n",
    "\n",
    "df_means.head()\n"
   ]
  },
  {
   "cell_type": "code",
   "execution_count": null,
   "id": "ab7042c7-78bf-4134-8aa1-a197c8ac6f17",
   "metadata": {},
   "outputs": [],
   "source": []
  },
  {
   "cell_type": "code",
   "execution_count": 25,
   "id": "67cd14bb-c495-451c-98d6-d57175dc5ac6",
   "metadata": {},
   "outputs": [
    {
     "data": {
      "text/plain": [
       "<AxesSubplot:>"
      ]
     },
     "execution_count": 25,
     "metadata": {},
     "output_type": "execute_result"
    },
    {
     "data": {
      "image/png": "[encoded data removed]",
      "text/plain": [
       "<Figure size 432x288 with 2 Axes>"
      ]
     },
     "metadata": {
      "needs_background": "light"
     },
     "output_type": "display_data"
    }
   ],
   "source": [
    "corr2 = df_means.corr()\n",
    "\n",
    "# plot the heatmap\n",
    "sns.heatmap(corr2, \n",
    "        xticklabels=corr2.columns,\n",
    "        yticklabels=corr2.columns)\n"
   ]
  },
  {
   "cell_type": "code",
   "execution_count": 27,
   "id": "8fd57438-0cd3-4fc5-8822-a9a5c21a3678",
   "metadata": {},
   "outputs": [
    {
     "name": "stdout",
     "output_type": "stream",
     "text": [
      "Intercept: \n",
      " -31.539064080448796\n",
      "Coefficients: \n",
      " [0.33821427 4.37702112]\n"
     ]
    }
   ],
   "source": [
    "#making a regression GUI for obs(date) and neb_mean (clouds)\n",
    "import tkinter as tk \n",
    "from matplotlib.backends.backend_tkagg import FigureCanvasTkAgg\n",
    "\n",
    "Xn = df_means[['maxO3v','temp_mean']]\n",
    "Yn = df_means.maxO3\n",
    "\n",
    "regr = LinearRegression()\n",
    "regr.fit(Xn, Yn)\n",
    "\n",
    "print('Intercept: \\n', regr.intercept_)\n",
    "print('Coefficients: \\n', regr.coef_)\n",
    "\n",
    "# tkinter GUI\n",
    "root= tk.Tk()\n",
    "\n",
    "canvas1 = tk.Canvas(root, width = 500, height = 300)\n",
    "canvas1.pack()\n",
    "\n",
    "# with sklearn\n",
    "Intercept_result = ('Intercept: ', regr.intercept_)\n",
    "label_Intercept = tk.Label(root, text=Intercept_result, justify = 'center')\n",
    "canvas1.create_window(260, 220, window=label_Intercept)\n",
    "\n",
    "# with sklearn\n",
    "Coefficients_result  = ('Coefficients: ', regr.coef_)\n",
    "label_Coefficients = tk.Label(root, text=Coefficients_result, justify = 'center')\n",
    "canvas1.create_window(260, 240, window=label_Coefficients)\n",
    "\n",
    "# New_old label and input box\n",
    "label1 = tk.Label(root, text='Type old O3: ')\n",
    "canvas1.create_window(100, 100, window=label1)\n",
    "\n",
    "entry1 = tk.Entry (root) # create 1st entry box\n",
    "canvas1.create_window(270, 100, window=entry1)\n",
    "\n",
    "# New_temp label and input box\n",
    "label2 = tk.Label(root, text=' Type mean temp: ')\n",
    "canvas1.create_window(120, 120, window=label2)\n",
    "\n",
    "entry2 = tk.Entry (root) # create 2nd entry box\n",
    "canvas1.create_window(270, 120, window=entry2)\n",
    "\n",
    "def values(): \n",
    "    global New_date #our 1st input variable\n",
    "    New_date = float(entry1.get()) \n",
    "    \n",
    "    global New_cloud #our 2nd input variable\n",
    "    New_cloud = float(entry2.get()) \n",
    "    \n",
    "    Prediction_result  = ('Predicted Max O3: ', regr.predict([[New_date,New_cloud]]))\n",
    "    label_Prediction = tk.Label(root, text= Prediction_result, bg='orange')\n",
    "    canvas1.create_window(260, 280, window=label_Prediction)\n",
    "    \n",
    "button1 = tk.Button (root, text='Predict Max O3',command=values, bg='orange') # button to call the 'values' command above \n",
    "canvas1.create_window(270, 150, window=button1)\n",
    " \n",
    "#plot 1st scatter \n",
    "figure3 = plt.Figure(figsize=(5,4), dpi=100)\n",
    "ax3 = figure3.add_subplot(111)\n",
    "ax3.scatter(df_means['maxO3v'].astype(float),df_means['maxO3'].astype(float), color = 'r')\n",
    "scatter3 = FigureCanvasTkAgg(figure3, root) \n",
    "scatter3.get_tk_widget().pack(side=tk.RIGHT, fill=tk.BOTH)\n",
    "#ax3.legend(['Max O3']) \n",
    "ax3.set_xlabel('old maxO3')\n",
    "ax3.set_title('old vs current maxO3')\n",
    "\n",
    "#plot 2nd scatter \n",
    "figure4 = plt.Figure(figsize=(5,4), dpi=100)\n",
    "ax4 = figure4.add_subplot(111)\n",
    "ax4.scatter(df_means['temp_mean'].astype(float),df_means['maxO3'].astype(float), color = 'g')\n",
    "scatter4 = FigureCanvasTkAgg(figure4, root) \n",
    "scatter4.get_tk_widget().pack(side=tk.RIGHT, fill=tk.BOTH)\n",
    "#ax4.legend(['Max 03']) \n",
    "ax4.set_xlabel('mean temp')\n",
    "ax4.set_title('temp vs maxO3')\n",
    "\n",
    "root.mainloop()\n"
   ]
  },
  {
   "cell_type": "code",
   "execution_count": null,
   "id": "5fe61520-8c7e-4407-87ba-2807dab38bfa",
   "metadata": {},
   "outputs": [],
   "source": []
  }
 ],
 "metadata": {
  "kernelspec": {
   "display_name": "Python 3 (ipykernel)",
   "language": "python",
   "name": "python3"
  },
  "language_info": {
   "codemirror_mode": {
    "name": "ipython",
    "version": 3
   },
   "file_extension": ".py",
   "mimetype": "text/x-python",
   "name": "python",
   "nbconvert_exporter": "python",
   "pygments_lexer": "ipython3",
   "version": "3.8.13"
  }
 },
 "nbformat": 4,
 "nbformat_minor": 5
}
